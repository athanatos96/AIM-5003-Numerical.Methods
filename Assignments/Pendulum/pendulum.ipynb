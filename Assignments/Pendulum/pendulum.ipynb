{
  "metadata": {
    "language_info": {
      "codemirror_mode": {
        "name": "python",
        "version": 3
      },
      "file_extension": ".py",
      "mimetype": "text/x-python",
      "name": "python",
      "nbconvert_exporter": "python",
      "pygments_lexer": "ipython3",
      "version": "3.8"
    },
    "kernelspec": {
      "name": "python",
      "display_name": "Pyolite",
      "language": "python"
    }
  },
  "nbformat_minor": 4,
  "nbformat": 4,
  "cells": [
    {
      "cell_type": "markdown",
      "source": "### Pendulum without friction",
      "metadata": {}
    },
    {
      "cell_type": "code",
      "source": "import numpy as np\nimport matplotlib.pyplot as plt\n\n%matplotlib inline",
      "metadata": {
        "trusted": true
      },
      "execution_count": null,
      "outputs": []
    },
    {
      "cell_type": "code",
      "source": "pi = np.pi\nexp = np.exp\nsqrt = np.sqrt\nsin = np.sin\ncos = np.cos",
      "metadata": {
        "trusted": true
      },
      "execution_count": null,
      "outputs": []
    },
    {
      "cell_type": "raw",
      "source": "Euler_method\n\nInputs:\n  f: vector field function\n  [a,b]: time interval\n  h: step size\n  y_0: initial condition (arrray)\n  \nOutputs:\n  t: array of n+1 equispaced times (t_0=a, t_1, t_2, ..., t_n=b)\n  w: 2d array containing the numerical solution, where\n     w[:,0] contains y(t_0)\n     w[:,1] contains y(t_1)\n     ...\n     w[:,n] contains y(t_n)",
      "metadata": {}
    },
    {
      "cell_type": "code",
      "source": "def Euler_method(f, a, b, h, y_0):\n    n = int((b - a)/h)\n    d = len(y_0)\n    \n    t = np.linspace(a, b, n+1)\n    w = np.zeros((d, n+1))\n\n    # IMPLEMENT EULER'S RULE FOR SYSTEMS HERE\n    \n    return t, w",
      "metadata": {
        "trusted": true
      },
      "execution_count": null,
      "outputs": []
    },
    {
      "cell_type": "code",
      "source": "def f(t, y):\n    y1, y2 = y\n    g = 9.81\n    l = 1\n    ydot = [,] #IMPLEMENT PENDULUM VECTORFIELD HERE\n    return np.array(ydot)",
      "metadata": {
        "trusted": true
      },
      "execution_count": null,
      "outputs": []
    },
    {
      "cell_type": "code",
      "source": "a, b = 0, 10\nh = 0.01\ny_0 = (pi/2, 0)",
      "metadata": {
        "trusted": true
      },
      "execution_count": null,
      "outputs": []
    },
    {
      "cell_type": "code",
      "source": "t, y = Euler_method(f, a, b, h, y_0)\n\nplt.plot(t, y[0], label=\"Angle\")\nplt.plot(t, y[1], label=\"Angular velocity\")\nplt.legend()\n\nplt.show()",
      "metadata": {
        "scrolled": true,
        "trusted": true
      },
      "execution_count": null,
      "outputs": []
    }
  ]
}