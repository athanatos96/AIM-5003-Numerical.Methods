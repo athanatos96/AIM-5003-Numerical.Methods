{
  "metadata": {
    "language_info": {
      "codemirror_mode": {
        "name": "python",
        "version": 3
      },
      "file_extension": ".py",
      "mimetype": "text/x-python",
      "name": "python",
      "nbconvert_exporter": "python",
      "pygments_lexer": "ipython3",
      "version": "3.8"
    },
    "kernelspec": {
      "name": "python",
      "display_name": "Pyolite",
      "language": "python"
    }
  },
  "nbformat_minor": 4,
  "nbformat": 4,
  "cells": [
    {
      "cell_type": "code",
      "source": "import numpy as np\nfrom pandas import DataFrame as DF\nimport matplotlib.pyplot as plt\n\n%matplotlib inline",
      "metadata": {
        "trusted": true
      },
      "execution_count": null,
      "outputs": []
    },
    {
      "cell_type": "code",
      "source": "pi = np.pi\nlog = np.log\nexp = np.exp\nsin = np.sin\nsinh = np.sinh\ntan = np.tan\ntanh = np.tanh\narctan = np.arctan\narctanh = np.arctanh",
      "metadata": {
        "trusted": true
      },
      "execution_count": null,
      "outputs": []
    },
    {
      "cell_type": "markdown",
      "source": "# Chapter 6<br>Ordinary Differential Equations",
      "metadata": {}
    },
    {
      "cell_type": "markdown",
      "source": "## 6.1 Initial Value Problems",
      "metadata": {}
    },
    {
      "cell_type": "code",
      "source": "# Euler_method: Euler's method for solving IVP problems.\n# \n# Input: RHS of differential equation f, time interval [a,b], step size h, initial value y_0\n# Output: time steps t (array), numerical solution w (array).\n#\n# Example usage: t, w = Euler_method(f, a, b, h, y_0)\n\ndef Euler_method(f, a, b, h, y_0):\n    # ENTER EULER'S METHOD HERE\n    \n    return t, w",
      "metadata": {
        "trusted": true
      },
      "execution_count": null,
      "outputs": []
    },
    {
      "cell_type": "markdown",
      "source": "### Q. 1",
      "metadata": {}
    },
    {
      "cell_type": "code",
      "source": "a, b = 0, 1\nh = 0.1\ny_0 = 1",
      "metadata": {
        "trusted": true
      },
      "execution_count": null,
      "outputs": []
    },
    {
      "cell_type": "code",
      "source": "# (a)\ndef f(t, y):\n    return # ENTER VECTOR FIELD HERE\n\ndef exact_sol(t):\n    return # ENTER EXACT SOLUTION HERE",
      "metadata": {
        "trusted": true
      },
      "execution_count": null,
      "outputs": []
    },
    {
      "cell_type": "code",
      "source": "t, w = Euler_method(f, a, b, h, y_0)\ntrue_value = exact_sol(t)\nerror = abs(true_value - w)\n\nDF({\"t\": t, \"w\": w, \"Error\": error, 'True value': true_value}).set_index('t')[['True value', 'w', 'Error']]",
      "metadata": {
        "trusted": true
      },
      "execution_count": null,
      "outputs": []
    },
    {
      "cell_type": "markdown",
      "source": "### Q. 2",
      "metadata": {}
    },
    {
      "cell_type": "code",
      "source": "a, b = 0, 1\nh_list = [0.1, 0.05, 0.025]\nt_list = np.linspace(0, 1, 41)\ny_0 = 1",
      "metadata": {},
      "execution_count": null,
      "outputs": []
    },
    {
      "cell_type": "code",
      "source": "plt.figure()\n\ntrue_value = exact_sol(t_list)\nplt.plot(t_list, true_value, label='exact sol')\n\n# PLOT THE EULER'S METHODS APPROXIMATE SOLUTIONS  $h = 0.1, 0.05$, and $0.025$\n\nplt.legend()\nplt.show()",
      "metadata": {
        "scrolled": true,
        "tags": []
      },
      "execution_count": null,
      "outputs": []
    },
    {
      "cell_type": "markdown",
      "source": "### Q. 4",
      "metadata": {}
    },
    {
      "cell_type": "code",
      "source": "a, b = 0, 1\nh_list = [0.1*(2**(-k)) for k in range(6)]\ny_0 = 1",
      "metadata": {},
      "execution_count": null,
      "outputs": []
    },
    {
      "cell_type": "code",
      "source": "# COMPUTE THE ERROR OF EULER'S METHOD AT t=1 AS A FUNCTION OF h\n# (for each value h in h_list, compute the error and put it in error_list)\n\nplt.plot(h_list, error_list)\nplt.xlabel('h')\nplt.ylabel(\"Error\")\nplt.xscale(\"log\")\nplt.yscale(\"log\")\nplt.show()",
      "metadata": {
        "scrolled": true,
        "tags": []
      },
      "execution_count": null,
      "outputs": []
    },
    {
      "cell_type": "markdown",
      "source": "### Q. 7",
      "metadata": {}
    },
    {
      "cell_type": "code",
      "source": "a, b = 0, 1\nh_list = [0.1*(2**(-k)) for k in range(6)]\ny_0 = 0",
      "metadata": {},
      "execution_count": null,
      "outputs": []
    },
    {
      "cell_type": "code",
      "source": "# (a)\ndef f(t, y):\n    return t + y\n\ndef exact_sol(t):\n    return exp(t) - t - 1",
      "metadata": {},
      "execution_count": null,
      "outputs": []
    },
    {
      "cell_type": "code",
      "source": "f_1 = exact_sol(1)\nerror_list = np.zeros(6)\nfor i, h in enumerate(h_list):\n    t, w = Euler_method(f, a, b, h, y_0)\n    error_list[i] = abs(w[-1] - f_1)\n\nplt.plot(h_list, error_list)\nplt.xlabel('h')\nplt.ylabel(\"Error\")\nplt.xscale(\"log\")\nplt.yscale(\"log\")\nplt.show()",
      "metadata": {},
      "execution_count": null,
      "outputs": []
    },
    {
      "cell_type": "code",
      "source": "# (b)\ndef f(t, y):\n    return t - y\n\ndef exact_sol(t):\n    return exp(-t) + t - 1",
      "metadata": {},
      "execution_count": null,
      "outputs": []
    },
    {
      "cell_type": "code",
      "source": "f_1 = exact_sol(1)\nerror_list = np.zeros(6)\nfor i, h in enumerate(h_list):\n    t, w = Euler_method(f, a, b, h, y_0)\n    error_list[i] = abs(w[-1] - f_1)\n\nplt.plot(h_list, error_list)\nplt.xlabel('h')\nplt.ylabel(\"Error\")\nplt.xscale(\"log\")\nplt.yscale(\"log\")\nplt.show()",
      "metadata": {},
      "execution_count": null,
      "outputs": []
    },
    {
      "cell_type": "code",
      "source": "# (c)\ndef f(t, y):\n    return 4*t - 2*y\n\ndef exact_sol(t):\n    return exp(-2*t) + 2*t - 1",
      "metadata": {},
      "execution_count": null,
      "outputs": []
    },
    {
      "cell_type": "code",
      "source": "f_1 = exact_sol(1)\nerror_list = np.zeros(6)\nfor i, h in enumerate(h_list):\n    t, w = Euler_method(f, a, b, h, y_0)\n    error_list[i] = abs(w[-1] - f_1)\n\nplt.plot(h_list, error_list)\nplt.xlabel('h')\nplt.ylabel(\"Error\")\nplt.xscale(\"log\")\nplt.yscale(\"log\")\nplt.show()",
      "metadata": {
        "scrolled": true
      },
      "execution_count": null,
      "outputs": []
    }
  ]
}