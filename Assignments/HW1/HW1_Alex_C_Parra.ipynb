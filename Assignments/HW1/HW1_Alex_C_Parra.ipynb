{
  "nbformat": 4,
  "nbformat_minor": 0,
  "metadata": {
    "colab": {
      "name": "HW1-Alex_C_Parra.ipynb",
      "provenance": [],
      "collapsed_sections": []
    },
    "kernelspec": {
      "name": "python3",
      "display_name": "Python 3"
    },
    "language_info": {
      "name": "python"
    }
  },
  "cells": [
    {
      "cell_type": "code",
      "source": [
        "from mpmath import *\n",
        "import math"
      ],
      "metadata": {
        "id": "NbJPjgydP62Y"
      },
      "execution_count": 23,
      "outputs": []
    },
    {
      "cell_type": "markdown",
      "source": [
        "# Exercise 1"
      ],
      "metadata": {
        "id": "tfaJYpDhw_Xl"
      }
    },
    {
      "cell_type": "markdown",
      "source": [
        "part a)"
      ],
      "metadata": {
        "id": "Jele--YxxEqR"
      }
    },
    {
      "cell_type": "code",
      "source": [
        "result1=[]\n",
        "result2=[]\n",
        "for i in range(1,15):\n",
        "  value=10**(-i)\n",
        "  print(value)\n",
        "\n",
        "  vv1=(1-sec(value))/(tan(value)**2)\n",
        "  result1.append(vv1)\n",
        "\n",
        "  vv2=(-1)/(1+sec(value))\n",
        "  result2.append(vv2)"
      ],
      "metadata": {
        "colab": {
          "base_uri": "https://localhost:8080/",
          "height": 0
        },
        "id": "5xABYHhlP8N2",
        "outputId": "05ec2584-44c3-4cb0-de83-bc171e453e73"
      },
      "execution_count": 2,
      "outputs": [
        {
          "output_type": "stream",
          "name": "stdout",
          "text": [
            "0.1\n",
            "0.01\n",
            "0.001\n",
            "0.0001\n",
            "1e-05\n",
            "1e-06\n",
            "1e-07\n",
            "1e-08\n",
            "1e-09\n",
            "1e-10\n",
            "1e-11\n",
            "1e-12\n",
            "1e-13\n",
            "1e-14\n"
          ]
        }
      ]
    },
    {
      "cell_type": "code",
      "source": [
        "result1"
      ],
      "metadata": {
        "colab": {
          "base_uri": "https://localhost:8080/",
          "height": 0
        },
        "id": "Zj14lllESHGI",
        "outputId": "d2d483ea-157a-45d8-e037-077cc408cd9a"
      },
      "execution_count": 3,
      "outputs": [
        {
          "output_type": "execute_result",
          "data": {
            "text/plain": [
              "[mpf('-0.49874791371143462'),\n",
              " mpf('-0.49998749979095553'),\n",
              " mpf('-0.49999987501428939'),\n",
              " mpf('-0.49999999362793118'),\n",
              " mpf('-0.50000004133685205'),\n",
              " mpf('-0.50004445029083722'),\n",
              " mpf('-0.51070259132756868'),\n",
              " mpf('0.0'),\n",
              " mpf('0.0'),\n",
              " mpf('0.0'),\n",
              " mpf('0.0'),\n",
              " mpf('0.0'),\n",
              " mpf('0.0'),\n",
              " mpf('0.0')]"
            ]
          },
          "metadata": {},
          "execution_count": 3
        }
      ]
    },
    {
      "cell_type": "code",
      "source": [
        "result2"
      ],
      "metadata": {
        "id": "_UAIwxoXSssJ",
        "colab": {
          "base_uri": "https://localhost:8080/",
          "height": 0
        },
        "outputId": "e808f41e-73b2-4b8b-a5f4-6d9403daa1fc"
      },
      "execution_count": 4,
      "outputs": [
        {
          "output_type": "execute_result",
          "data": {
            "text/plain": [
              "[mpf('-0.49874791371142879'),\n",
              " mpf('-0.49998749979166379'),\n",
              " mpf('-0.49999987499997917'),\n",
              " mpf('-0.49999999875000001'),\n",
              " mpf('-0.4999999999875'),\n",
              " mpf('-0.49999999999987499'),\n",
              " mpf('-0.49999999999999867'),\n",
              " mpf('-0.5'),\n",
              " mpf('-0.5'),\n",
              " mpf('-0.5'),\n",
              " mpf('-0.5'),\n",
              " mpf('-0.5'),\n",
              " mpf('-0.5'),\n",
              " mpf('-0.5')]"
            ]
          },
          "metadata": {},
          "execution_count": 4
        }
      ]
    },
    {
      "cell_type": "markdown",
      "source": [
        "part b)"
      ],
      "metadata": {
        "id": "GzdxracOxGvs"
      }
    },
    {
      "cell_type": "code",
      "source": [
        "result1=[]\n",
        "result2=[]\n",
        "for i in range(1,15):\n",
        "  value=10**(-i)\n",
        "  print(value)\n",
        "\n",
        "  vv1=(1-(1-value)**3)/(value)\n",
        "  result1.append(vv1)\n",
        "\n",
        "  vv2=(3-3*value+value**2)\n",
        "  result2.append(vv2)"
      ],
      "metadata": {
        "colab": {
          "base_uri": "https://localhost:8080/",
          "height": 0
        },
        "id": "FcpJ7YjKxIOL",
        "outputId": "73916da6-8225-4218-b76d-51af1d9d1a4b"
      },
      "execution_count": 7,
      "outputs": [
        {
          "output_type": "stream",
          "name": "stdout",
          "text": [
            "0.1\n",
            "0.01\n",
            "0.001\n",
            "0.0001\n",
            "1e-05\n",
            "1e-06\n",
            "1e-07\n",
            "1e-08\n",
            "1e-09\n",
            "1e-10\n",
            "1e-11\n",
            "1e-12\n",
            "1e-13\n",
            "1e-14\n"
          ]
        }
      ]
    },
    {
      "cell_type": "code",
      "source": [
        "result1"
      ],
      "metadata": {
        "colab": {
          "base_uri": "https://localhost:8080/",
          "height": 0
        },
        "id": "Aqk0rz5FxeUF",
        "outputId": "bc3de44f-ccdc-48df-f98e-8a64802a6ea8"
      },
      "execution_count": 8,
      "outputs": [
        {
          "output_type": "execute_result",
          "data": {
            "text/plain": [
              "[2.709999999999999,\n",
              " 2.9700999999999977,\n",
              " 2.997000999999999,\n",
              " 2.9997000100001614,\n",
              " 2.9999700000837843,\n",
              " 2.99999700004161,\n",
              " 2.999999698660716,\n",
              " 2.999999981767587,\n",
              " 2.9999999151542056,\n",
              " 3.000000248221113,\n",
              " 3.000000248221113,\n",
              " 2.9999336348396355,\n",
              " 3.000932835561798,\n",
              " 2.9976021664879227]"
            ]
          },
          "metadata": {},
          "execution_count": 8
        }
      ]
    },
    {
      "cell_type": "code",
      "source": [
        "result2"
      ],
      "metadata": {
        "colab": {
          "base_uri": "https://localhost:8080/",
          "height": 0
        },
        "id": "X_lQVAC-xeXh",
        "outputId": "a218ed25-105e-4b8b-b85d-058ca16fb8ff"
      },
      "execution_count": 9,
      "outputs": [
        {
          "output_type": "execute_result",
          "data": {
            "text/plain": [
              "[2.71,\n",
              " 2.9701000000000004,\n",
              " 2.997001,\n",
              " 2.9997000099999998,\n",
              " 2.9999700001,\n",
              " 2.999997000001,\n",
              " 2.9999997000000103,\n",
              " 2.99999997,\n",
              " 2.999999997,\n",
              " 2.9999999997,\n",
              " 2.99999999997,\n",
              " 2.999999999997,\n",
              " 2.9999999999997,\n",
              " 2.99999999999997]"
            ]
          },
          "metadata": {},
          "execution_count": 9
        }
      ]
    },
    {
      "cell_type": "markdown",
      "source": [
        "# Exercise 2"
      ],
      "metadata": {
        "id": "mmA2nNSV3XeN"
      }
    },
    {
      "cell_type": "markdown",
      "source": [
        "part a)"
      ],
      "metadata": {
        "id": "J6Ps9-yB5TSO"
      }
    },
    {
      "cell_type": "code",
      "source": [
        "solution=[]\n",
        "for i in range(1,10):\n",
        "  x=10**(-i)\n",
        "  print(x)\n",
        "\n",
        "  sol=(tan(x)-x)/(x**3)\n",
        "  solution.append(sol)\n"
      ],
      "metadata": {
        "colab": {
          "base_uri": "https://localhost:8080/",
          "height": 0
        },
        "id": "Z7QULIsF3ZXb",
        "outputId": "bd9c33c5-4769-461f-c23f-fbdf02189cbd"
      },
      "execution_count": 21,
      "outputs": [
        {
          "output_type": "stream",
          "name": "stdout",
          "text": [
            "0.1\n",
            "0.01\n",
            "0.001\n",
            "0.0001\n",
            "1e-05\n",
            "1e-06\n",
            "1e-07\n",
            "1e-08\n",
            "1e-09\n"
          ]
        }
      ]
    },
    {
      "cell_type": "code",
      "source": [
        "solution"
      ],
      "metadata": {
        "colab": {
          "base_uri": "https://localhost:8080/",
          "height": 0
        },
        "id": "6onEZ19I4_3y",
        "outputId": "339b82b2-e7d9-4189-bc5e-0688a6c58551"
      },
      "execution_count": 22,
      "outputs": [
        {
          "output_type": "execute_result",
          "data": {
            "text/plain": [
              "[mpf('0.33467208545054355'),\n",
              " mpf('0.33334666720702394'),\n",
              " mpf('0.33333346673158903'),\n",
              " mpf('0.33333333651890806'),\n",
              " mpf('0.3333328757329847'),\n",
              " mpf('0.33330746474456724'),\n",
              " mpf('0.3308722450212111'),\n",
              " mpf('0.0'),\n",
              " mpf('0.0')]"
            ]
          },
          "metadata": {},
          "execution_count": 22
        }
      ]
    },
    {
      "cell_type": "markdown",
      "source": [
        "part b)"
      ],
      "metadata": {
        "id": "kmm_CNWC5U6Z"
      }
    },
    {
      "cell_type": "code",
      "source": [
        "solution=[]\n",
        "for i in range(1,14):\n",
        "  x=10**(-i)\n",
        "  print(x)\n",
        "\n",
        "  sol=(math.exp(x)+cos(x)-sin(x)-2)\n",
        "  solution.append(sol)"
      ],
      "metadata": {
        "colab": {
          "base_uri": "https://localhost:8080/",
          "height": 0
        },
        "id": "UXfDFpTN5V-w",
        "outputId": "fff4d802-36ef-4828-cd7c-82cd4e4859c5"
      },
      "execution_count": 28,
      "outputs": [
        {
          "output_type": "stream",
          "name": "stdout",
          "text": [
            "0.1\n",
            "0.01\n",
            "0.001\n",
            "0.0001\n",
            "1e-05\n",
            "1e-06\n",
            "1e-07\n",
            "1e-08\n",
            "1e-09\n",
            "1e-10\n",
            "1e-11\n",
            "1e-12\n",
            "1e-13\n"
          ]
        }
      ]
    },
    {
      "cell_type": "code",
      "source": [
        "solution"
      ],
      "metadata": {
        "colab": {
          "base_uri": "https://localhost:8080/",
          "height": 0
        },
        "id": "ITX0hNYu5zRp",
        "outputId": "88a44c14-a643-49ec-cf01-b9ba6e225433"
      },
      "execution_count": 29,
      "outputs": [
        {
          "output_type": "execute_result",
          "data": {
            "text/plain": [
              "[mpf('0.00034166670684543377'),\n",
              " mpf('3.3416666678220963e-7'),\n",
              " mpf('3.3341684968490881e-10'),\n",
              " mpf('3.3351099659739702e-13'),\n",
              " mpf('4.4408920985006262e-16'),\n",
              " mpf('0.0'),\n",
              " mpf('-2.2204460492503131e-16'),\n",
              " mpf('0.0'),\n",
              " mpf('0.0'),\n",
              " mpf('0.0'),\n",
              " mpf('0.0'),\n",
              " mpf('0.0'),\n",
              " mpf('0.0')]"
            ]
          },
          "metadata": {},
          "execution_count": 29
        }
      ]
    },
    {
      "cell_type": "markdown",
      "source": [
        "# Exercise 3"
      ],
      "metadata": {
        "id": "Jdx2zDrw6sgm"
      }
    },
    {
      "cell_type": "code",
      "source": [
        "from decimal import Decimal  \n",
        "from decimal import * \n",
        "getcontext().prec = 33\n",
        "\n",
        "a=Decimal(-12345678987654321)\n",
        "b=Decimal(123)"
      ],
      "metadata": {
        "id": "DN8QCMdsDhyL"
      },
      "execution_count": 121,
      "outputs": []
    },
    {
      "cell_type": "code",
      "source": [
        "a**2"
      ],
      "metadata": {
        "colab": {
          "base_uri": "https://localhost:8080/",
          "height": 0
        },
        "id": "woSCLs7-DvS4",
        "outputId": "353870c2-9067-486a-e7c3-685fb5d121ba"
      },
      "execution_count": 128,
      "outputs": [
        {
          "output_type": "execute_result",
          "data": {
            "text/plain": [
              "Decimal('152415789666209420210333789971041')"
            ]
          },
          "metadata": {},
          "execution_count": 128
        }
      ]
    },
    {
      "cell_type": "code",
      "source": [
        "b**2"
      ],
      "metadata": {
        "colab": {
          "base_uri": "https://localhost:8080/",
          "height": 0
        },
        "id": "iyri2cxQDyS4",
        "outputId": "d32b4d1a-3aa1-484a-a452-f38c7b0cdf21"
      },
      "execution_count": 129,
      "outputs": [
        {
          "output_type": "execute_result",
          "data": {
            "text/plain": [
              "Decimal('15129')"
            ]
          },
          "metadata": {},
          "execution_count": 129
        }
      ]
    },
    {
      "cell_type": "code",
      "source": [
        "a**2+b**2"
      ],
      "metadata": {
        "colab": {
          "base_uri": "https://localhost:8080/",
          "height": 0
        },
        "id": "WTQ7PcKZDz7N",
        "outputId": "b227bb1a-d61b-4e6f-cf2d-0fbe2825896b"
      },
      "execution_count": 130,
      "outputs": [
        {
          "output_type": "execute_result",
          "data": {
            "text/plain": [
              "Decimal('152415789666209420210333789986170')"
            ]
          },
          "metadata": {},
          "execution_count": 130
        }
      ]
    },
    {
      "cell_type": "code",
      "source": [
        "(a**2+b**2)**(Decimal(1/2))"
      ],
      "metadata": {
        "colab": {
          "base_uri": "https://localhost:8080/",
          "height": 0
        },
        "id": "eUZRAhTAD4qQ",
        "outputId": "eb3cc5a4-e0b4-4faf-d430-c8e78ab19d9d"
      },
      "execution_count": 131,
      "outputs": [
        {
          "output_type": "execute_result",
          "data": {
            "text/plain": [
              "Decimal('12345678987654321.0000000000006127')"
            ]
          },
          "metadata": {},
          "execution_count": 131
        }
      ]
    },
    {
      "cell_type": "code",
      "source": [
        "a+(a**2+b**2)**(Decimal(1/2))"
      ],
      "metadata": {
        "colab": {
          "base_uri": "https://localhost:8080/",
          "height": 0
        },
        "id": "QWoUGO5IEGGX",
        "outputId": "9bd68d8a-bfc1-4e18-a05e-9387d932e15e"
      },
      "execution_count": 132,
      "outputs": [
        {
          "output_type": "execute_result",
          "data": {
            "text/plain": [
              "Decimal('6.127E-13')"
            ]
          },
          "metadata": {},
          "execution_count": 132
        }
      ]
    },
    {
      "cell_type": "markdown",
      "source": [
        "With normal double precision"
      ],
      "metadata": {
        "id": "h4NsxD_FFuF1"
      }
    },
    {
      "cell_type": "code",
      "source": [
        "a = float(-12345678987654321)\n",
        "b = float(123)\n",
        "\n",
        "solution = a + math.sqrt((a**2)+(b**2))\n",
        "f'{solution:.4}'"
      ],
      "metadata": {
        "colab": {
          "base_uri": "https://localhost:8080/",
          "height": 35
        },
        "id": "91Qu7dW56tmB",
        "outputId": "f8af328d-6870-4769-86af-7501e53e37bf"
      },
      "execution_count": 133,
      "outputs": [
        {
          "output_type": "execute_result",
          "data": {
            "application/vnd.google.colaboratory.intrinsic+json": {
              "type": "string"
            },
            "text/plain": [
              "'0.0'"
            ]
          },
          "metadata": {},
          "execution_count": 133
        }
      ]
    },
    {
      "cell_type": "code",
      "source": [
        "f'{a:.33}'"
      ],
      "metadata": {
        "colab": {
          "base_uri": "https://localhost:8080/",
          "height": 35
        },
        "id": "dvq7EL9fF2ux",
        "outputId": "f74c06c9-65db-4f43-b163-7f49611ccfae"
      },
      "execution_count": 135,
      "outputs": [
        {
          "output_type": "execute_result",
          "data": {
            "application/vnd.google.colaboratory.intrinsic+json": {
              "type": "string"
            },
            "text/plain": [
              "'-12345678987654320.0'"
            ]
          },
          "metadata": {},
          "execution_count": 135
        }
      ]
    }
  ]
}