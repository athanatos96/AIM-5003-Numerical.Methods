{
 "cells": [
  {
   "cell_type": "markdown",
   "id": "f57fa80e",
   "metadata": {},
   "source": [
    "# GPS, Conditioning, and Nonlinear Least Squares\n",
    "\n",
    "Author: Alejandro C. Parra Garcia"
   ]
  },
  {
   "cell_type": "code",
   "execution_count": null,
   "id": "37fe4a8b",
   "metadata": {},
   "outputs": [],
   "source": [
    "# import library\n",
    "import numpy as np\n",
    "import pandas as pd\n",
    "import math\n",
    "import matplotlib.pyplot as plt\n",
    "import seaborn as sns\n",
    "from mpl_toolkits import mplot3d\n",
    "import time"
   ]
  },
  {
   "cell_type": "code",
   "execution_count": null,
   "id": "4680a1f1",
   "metadata": {},
   "outputs": [],
   "source": [
    "# Constant\n",
    "c_light=299792.458\n",
    "earth_radius=6370"
   ]
  },
  {
   "cell_type": "markdown",
   "id": "48b177cf",
   "metadata": {},
   "source": [
    "## Problem 1"
   ]
  },
  {
   "cell_type": "markdown",
   "id": "06aa360a",
   "metadata": {},
   "source": [
    "### Functions"
   ]
  },
  {
   "cell_type": "code",
   "execution_count": null,
   "id": "28a94fe8",
   "metadata": {},
   "outputs": [],
   "source": [
    "#plotly imports\n",
    "import plotly as py\n",
    "import plotly.graph_objs as go\n",
    "from plotly.offline import download_plotlyjs, init_notebook_mode, plot, iplot\n",
    "def plot_3d_Variable(df):\n",
    "    x='x'\n",
    "    y='y'\n",
    "    z='z'\n",
    "    cl=np.unique(df['hue'].values)\n",
    "    clusterN=[]\n",
    "    for i in cl:\n",
    "        clusterN.append(df[df[\"hue\"] == i])\n",
    "        \n",
    "    data=[]\n",
    "    for n, cluster in enumerate(clusterN):\n",
    "        name=cluster.values[0][3]\n",
    "        opacity =1\n",
    "        if(name=='earth surface'):\n",
    "            opacity =0.01\n",
    "        trace = go.Scatter3d(x = cluster[x], y = cluster[y], z = cluster[z],\n",
    "                           mode = \"markers\", name = name,opacity=opacity,text = None)\n",
    "        data.append(trace)\n",
    "    \n",
    "    \n",
    "    title = \"Position of the satelite and the gps\"\n",
    "    \n",
    "    layout = go.Layout(\n",
    "        title = title,\n",
    "        scene = dict(\n",
    "            xaxis = dict(title=x,ticklen= 5,zeroline= False),\n",
    "            yaxis = dict(title=y,ticklen= 5,zeroline= False),\n",
    "            zaxis = dict(title=z,ticklen= 5,zeroline= False),\n",
    "        )\n",
    "    )\n",
    "    \n",
    "    fig = dict(data = data, layout = layout)\n",
    "    iplot(fig)"
   ]
  },
  {
   "cell_type": "code",
   "execution_count": null,
   "id": "7b2a7e6c",
   "metadata": {},
   "outputs": [],
   "source": [
    "# calculate 1 eq for the given values\n",
    "def eq(a,b,c,t,x,y,z,d):\n",
    "    return math.sqrt((x-a)**2+(y-b)**2+(z-c)**2)-c_light*(t-d)\n",
    "    \n",
    "# calculate the system of equations\n",
    "def gps_f_x(x,s1,s2,s3,s4,t):\n",
    "    sol=[]\n",
    "    sol.append(eq(s1[0],s1[1],s1[2],t[0],x[0],x[1],x[2],x[3]))# first eq for satelate S1\n",
    "    sol.append(eq(s2[0],s2[1],s2[2],t[1],x[0],x[1],x[2],x[3]))# first eq for satelate S2\n",
    "    sol.append(eq(s3[0],s3[1],s3[2],t[2],x[0],x[1],x[2],x[3]))# first eq for satelate S3\n",
    "    sol.append(eq(s4[0],s4[1],s4[2],t[3],x[0],x[1],x[2],x[3]))# first eq for satelate S4\n",
    "    return sol"
   ]
  },
  {
   "cell_type": "code",
   "execution_count": null,
   "id": "2f90dabf",
   "metadata": {},
   "outputs": [],
   "source": [
    "def df_x(si,t,x):\n",
    "    return (x[0]-si[0])/(math.sqrt((x[0]-si[0])**2+(x[1]-si[1])**2+(x[2]-si[2])**2))\n",
    "def df_y(si,t,x):\n",
    "    return (x[1]-si[1])/(math.sqrt((x[0]-si[0])**2+(x[1]-si[1])**2+(x[2]-si[2])**2))\n",
    "def df_z(si,t,x):\n",
    "    return (x[2]-si[2])/(math.sqrt((x[0]-si[0])**2+(x[1]-si[1])**2+(x[2]-si[2])**2))\n",
    "def df_d(si,t,x):\n",
    "    return c_light\n",
    "\n",
    "# Calculate the Jacobian Matrix of Partial Derivatives for x\n",
    "def gps_df_x(x,s1,s2,s3,s4,t):\n",
    "    A = np.array([[0.0,0.0,0.0,0.0],\n",
    "                 [0.0,0.0,0.0,0.0],\n",
    "                 [0.0,0.0,0.0,0.0],\n",
    "                 [0.0,0.0,0.0,0.0]])\n",
    "    satellites=[s1,s2,s3,s4]\n",
    "    for i in range(4):\n",
    "        A[i,0]=df_x(satellites[i],t[i],x)\n",
    "        A[i,1]=df_y(satellites[i],t[i],x)\n",
    "        A[i,2]=df_z(satellites[i],t[i],x)\n",
    "        A[i,3]=df_d(satellites[i],t[i],x)\n",
    "    return A"
   ]
  },
  {
   "cell_type": "code",
   "execution_count": null,
   "id": "0feb829b",
   "metadata": {},
   "outputs": [],
   "source": [
    "def multivar_newton(x0,s1,s2,s3,s4,t,k=50,tol=1e-5,verbose=False):\n",
    "    x=x0\n",
    "    for i in range(k):\n",
    "        \n",
    "        f=gps_f_x(x,s1,s2,s3,s4,t)\n",
    "        df=gps_df_x(x,s1,s2,s3,s4,t)\n",
    "        \n",
    "        if(all(abs(j) < tol for j in f)):\n",
    "            # the tol level has been reach\n",
    "            return x\n",
    "        \n",
    "        if(verbose):\n",
    "            print(\"iter: \"+str(i))\n",
    "        # Solve the linear system instead of doing the inverse of the matrix\n",
    "        s = np.linalg.solve(df, f)\n",
    "        x=x-s\n",
    "        if(verbose):\n",
    "            print(\"x=\"+str(x[0])+\" y=\"+str(x[1])+\" z=\"+str(x[2])+\", and d=\"+str(x[3]))\n",
    "\n",
    "    return x   "
   ]
  },
  {
   "cell_type": "code",
   "execution_count": null,
   "id": "a52b3967",
   "metadata": {
    "scrolled": true
   },
   "outputs": [],
   "source": [
    "# create points in the earth surface\n",
    "def add_earth_points(n,m):\n",
    "    for i in range(n):\n",
    "        step_n = 1/(n)\n",
    "        point_n = i*step_n\n",
    "        theta = point_n*2*math.pi\n",
    "        \n",
    "        for j in range(m):\n",
    "            step_m=1/(m)\n",
    "            point_m = j*step_m\n",
    "            phi = point_m*2*math.pi\n",
    "            \n",
    "            A=earth_radius*math.cos(phi)*math.cos(theta)\n",
    "            B=earth_radius*math.cos(phi)*math.sin(theta)\n",
    "            C=earth_radius*math.sin(phi)\n",
    "            df.loc[len(df.index)] = [A, B, C,'earth surface']\n",
    "            \n",
    "            # To see an evolution of the points of the earth surface being created uncomment the following code\n",
    "            # Better to run with an small n and m. Otherwise is going to lag and posible crash due to ram problems\n",
    "            # uncomment the following 4 lines and run this cell\n",
    "            #plot_3d_Variable(df) \n",
    "#df = pd.DataFrame(columns=('x', 'y', 'z', 'hue'))\n",
    "#df.loc[len(df.index)] = [0, 0, 0,'earth center']\n",
    "#add_earth_points(4,4)\n",
    "\n",
    "# If the points on the earth surface are not shown, change the opacity in the plot_3d_Variable method to a higher value"
   ]
  },
  {
   "cell_type": "markdown",
   "id": "a1d1aeac",
   "metadata": {},
   "source": [
    "### main execution"
   ]
  },
  {
   "cell_type": "code",
   "execution_count": null,
   "id": "f7c63398",
   "metadata": {},
   "outputs": [],
   "source": [
    "s1=[15600,7540,20140]\n",
    "s2=[18760,2750,18610]\n",
    "s3=[17610,14630,13480]\n",
    "s4=[19170,610,18390]\n",
    "t=[0.07074,0.07220,0.07690,0.07242]\n",
    "x0=[0,0,6370,0]\n",
    "\n",
    "# Create a DF to save the position of the satellites, the earth center, the earth surface, and the final position of the gps\n",
    "df = pd.DataFrame(columns=('x', 'y', 'z', 'hue'))\n",
    "ll=[s1,s2,s3,s4]\n",
    "for i in range(len(ll)):\n",
    "    # add the satelite position\n",
    "    df.loc[i] = [ll[i][0],ll[i][1],ll[i][2],'satelite']\n",
    "# add the center of the earth\n",
    "df.loc[len(df.index)] = [0, 0, 0,'earth center']\n",
    "# add points of earth location\n",
    "add_earth_points(50,50)\n",
    "\n",
    "\n",
    "# calculate the position of the gps\n",
    "position=multivar_newton(x0,s1,s2,s3,s4,t,k=10,tol=1e-6,verbose=True)\n",
    "\n",
    "# add the position of the gps to the dataframe\n",
    "df.loc[len(df.index)] = [position[0], position[1],position[2],'gps']\n",
    "# print the results\n",
    "print(\"\")\n",
    "print(\"(x,y,z) = (\"+str(position[0])+\", \"+str(position[1])+\", \"+str(position[2])+\"), and d= \"+str(position[3]))"
   ]
  },
  {
   "cell_type": "code",
   "execution_count": null,
   "id": "d7b434c5",
   "metadata": {},
   "outputs": [],
   "source": [
    "# print the dataframe\n",
    "df"
   ]
  },
  {
   "cell_type": "markdown",
   "id": "ba32d1e8",
   "metadata": {},
   "source": [
    "**you may have to re-execute the following cell for the image to load**"
   ]
  },
  {
   "cell_type": "code",
   "execution_count": null,
   "id": "05fb8134",
   "metadata": {},
   "outputs": [],
   "source": [
    "# Plot the position of the satellites, the gps, and the earth\n",
    "plot_3d_Variable(df)"
   ]
  },
  {
   "cell_type": "markdown",
   "id": "85a23f88",
   "metadata": {},
   "source": [
    "## Problem 4"
   ]
  },
  {
   "cell_type": "code",
   "execution_count": null,
   "id": "c73b50ac",
   "metadata": {},
   "outputs": [],
   "source": [
    "import random"
   ]
  },
  {
   "cell_type": "code",
   "execution_count": null,
   "id": "4ae0b8c1",
   "metadata": {},
   "outputs": [],
   "source": [
    "# Constant\n",
    "p=26570\n"
   ]
  },
  {
   "cell_type": "markdown",
   "id": "d2815a91",
   "metadata": {},
   "source": [
    "### Functions"
   ]
  },
  {
   "cell_type": "code",
   "execution_count": null,
   "id": "293cc025",
   "metadata": {},
   "outputs": [],
   "source": [
    "list_tt=[1,2,3,4,5,6,7,8]\n",
    "sal_list=[]\n",
    "for i in range(len(list_tt)):\n",
    "    sal_list.append([0,0,0])\n",
    "sal_list"
   ]
  },
  {
   "cell_type": "code",
   "execution_count": null,
   "id": "f5aa3a02",
   "metadata": {},
   "outputs": [],
   "source": [
    "# base on the phi and theta values of each satellites and d, we calculate the satellites position, distance and t\n",
    "def calculate_satellites_position(satellites_phi_theta, x):\n",
    "    #s1=[0,0,0]\n",
    "    #s2=[0,0,0]\n",
    "    #s3=[0,0,0]\n",
    "    #s4=[0,0,0]\n",
    "    #sal_list=[s1,s2,s3,s4]\n",
    "    sal_list=[]\n",
    "    for i in range(len(satellites_phi_theta)):\n",
    "        sal_list.append([0,0,0])\n",
    "    t=[0 for i in range(len(satellites_phi_theta))] # Create vector of t\n",
    "    \n",
    "    \n",
    "    \n",
    "    for i, satellites_i in enumerate(satellites_phi_theta):\n",
    "        s_i_A=p*math.cos(satellites_i[0])*math.cos(satellites_i[1])\n",
    "        s_i_B=p*math.cos(satellites_i[0])*math.sin(satellites_i[1])\n",
    "        s_i_C=p*math.sin(satellites_i[0])\n",
    "        \n",
    "        sal_list[i][0]=s_i_A\n",
    "        sal_list[i][1]=s_i_B\n",
    "        sal_list[i][2]=s_i_C\n",
    "        \n",
    "        # calculate radious\n",
    "        r_i = math.sqrt((s_i_A)**2+(s_i_B)**2+(s_i_C-earth_radius)**2)\n",
    "        \n",
    "        #calculate time\n",
    "        t_i=x[3] + (r_i/c_light)\n",
    "        t[i] = t_i\n",
    "        \n",
    "    return sal_list, t"
   ]
  },
  {
   "cell_type": "code",
   "execution_count": null,
   "id": "c2b1e28e",
   "metadata": {},
   "outputs": [],
   "source": [
    "# Calculate the dif in the position base on dif_t and also calculate the error magnification factor\n",
    "def change_t(x, x0, ll, t, dif_t, k=10,tol=1e-6):\n",
    "    \n",
    "    # Aply the change to the times\n",
    "    new_t = [t[i]+dif_t[i]for i in range(len(t))]\n",
    "    \n",
    "    # Aply the method\n",
    "    position = multivar_newton(x0,ll[0],ll[1],ll[2],ll[3],new_t,k=k,tol=tol,verbose=False)\n",
    "    \n",
    "    # calculate the difference in position ||(dif_x, dif_y, dif_z)||∞\n",
    "    max_dif_x = max([abs(x[i]-position[i]) for i in range(len(x))])\n",
    "    \n",
    "    # calculate the difference in time ||(dif_t_1, ..., dif_t_n)||∞\n",
    "    max_dif_t = max([abs(dif_t[i]) for i in range(len(dif_t))])\n",
    "    \n",
    "    # calculate the error magnification factor\n",
    "    error_magnification_factor= max_dif_x / ( c_light*max_dif_t)\n",
    "    \n",
    "    return max_dif_x, error_magnification_factor"
   ]
  },
  {
   "cell_type": "code",
   "execution_count": null,
   "id": "9fba4816",
   "metadata": {},
   "outputs": [],
   "source": [
    "# Run an iterative proces to check multiple diferent times variables\n",
    "def iterate_errors(x, x0, ll, t, s_i=5, s_j=5, s_n=5, s_m=5):\n",
    "    df_errors = pd.DataFrame(columns=('dif_t0','dif_t1','dif_t2','dif_t3', 'distance (m)', 'error_magnification_factor'))\n",
    "    \n",
    "    dif_t=[-1e-8,-1e-8,-1e-8,-1e-8]\n",
    "    step_i=0\n",
    "    step_j=0\n",
    "    step_n=0\n",
    "    step_m=0\n",
    "    \n",
    "    if(s_i==1):\n",
    "        dif_t[0]=0\n",
    "    else:\n",
    "        step_i=(1e-8*2)/(s_i-1)\n",
    "    if(s_j==1):\n",
    "        dif_t[1]=0\n",
    "    else:\n",
    "        step_j=(1e-8*2)/(s_j-1)\n",
    "    if(s_n==1):\n",
    "        dif_t[2]=0\n",
    "    else:\n",
    "        step_n=(1e-8*2)/(s_n-1)\n",
    "    if(s_m==1):\n",
    "        dif_t[3]=0\n",
    "    else:\n",
    "        step_m=(1e-8*2)/(s_m-1)\n",
    "        \n",
    "    for i in range(s_i):\n",
    "        v_i=dif_t[0]+step_i*i\n",
    "        for j in range(s_j):\n",
    "            v_j=dif_t[1]+step_j*j\n",
    "            for n in range(s_n):\n",
    "                v_n=dif_t[2]+step_n*n\n",
    "                for m in range(s_m):\n",
    "                    v_m=dif_t[3]+step_m*m\n",
    "\n",
    "                    if(v_i==0 and v_j==0 and v_n==0 and v_m==0):\n",
    "                        print(\"A difference of [0,0,0,0] is skiped\")\n",
    "                        continue\n",
    "                    \n",
    "                    # Calculate the distance and Error magnification factor\n",
    "                    dd, emf = change_t(x, x0, ll, t, [v_i,v_j,v_n,v_m])\n",
    "                    \n",
    "                    \n",
    "                    #save the result\n",
    "                    df_errors.loc[len(df_errors.index)] = [v_i, v_j, v_n, v_m, (dd*1000), emf]\n",
    "    return df_errors"
   ]
  },
  {
   "cell_type": "code",
   "execution_count": null,
   "id": "4095184f",
   "metadata": {},
   "outputs": [],
   "source": [
    "# Plot the erros (It can only plot 2 of the 4 satellaties times dif_times) and the distance or EMF\n",
    "# xx and yy are the names of 2 of the t's, \"dif_t0\", \"dif_t1\", \"dif_t2\" or \"dif_t3\" ...\n",
    "# zz is the column of distance or the EMF\n",
    "def plot_3d_Errors(df, xx, yy, zz):\n",
    "    x=xx\n",
    "    y=yy\n",
    "    z=zz\n",
    "    text=\"\"\n",
    "    if ( (len(df.columns)-2) == 4):\n",
    "        # 4 sattelites\n",
    "        text=[\"t: (\" + str( df['dif_t0'][ind] ) + \", \" + str(df['dif_t1'][ind]) + \", \" + str(df['dif_t2'][ind]) + \", \" + str(df['dif_t3'][ind]) +  \") distance=\"+str(round(df['distance (m)'][ind],4))+ \", EMF= \"+str(round(df['error_magnification_factor'][ind],4)) for ind in df.index]\n",
    "    elif ( (len(df.columns)-2) == 8):\n",
    "        # 8 sattelites\n",
    "        text=[\"t: (\" + str( df['dif_t0'][ind] ) + \", \" + str(df['dif_t1'][ind]) + \", \" + str(df['dif_t2'][ind]) + \", \" + str(df['dif_t3'][ind]) + \", \" + str(df['dif_t4'][ind]) + \", \" + str(df['dif_t5'][ind]) + \", \" + str(df['dif_t6'][ind]) + \", \" + str(df['dif_t7'][ind]) + \") distance=\"+str(round(df['distance (m)'][ind],4))+ \", EMF= \"+str(round(df['error_magnification_factor'][ind],4)) for ind in df.index]\n",
    "    else:\n",
    "        text=[\"distance=\"+str(round(df['distance (m)'][ind],4))+ \", EMF= \"+str(round(df['error_magnification_factor'][ind],4)) for ind in df.index]\n",
    "    \n",
    "    #print(text)\n",
    "    data=[]\n",
    "    trace = go.Scatter3d(x = df[x], y = df[y], z = df[z],\n",
    "                           mode = \"markers\",text = text)\n",
    "    data.append(trace)\n",
    "    \n",
    "    title = zz+\" base on the diference of \" + xx + \" and \" + yy + \" (if result is a plane then the others t's constant at 0)\"\n",
    "    \n",
    "    layout = go.Layout(\n",
    "        title = title,\n",
    "        scene = dict(\n",
    "            xaxis = dict(title=x,ticklen= 5,zeroline= False),\n",
    "            yaxis = dict(title=y,ticklen= 5,zeroline= False),\n",
    "            zaxis = dict(title=z,ticklen= 5,zeroline= False),\n",
    "        )\n",
    "    )\n",
    "    \n",
    "    fig = dict(data = data, layout = layout)\n",
    "    iplot(fig)\n"
   ]
  },
  {
   "cell_type": "markdown",
   "id": "9e33ea73",
   "metadata": {},
   "source": [
    "### main execution"
   ]
  },
  {
   "cell_type": "code",
   "execution_count": null,
   "id": "463da0a6",
   "metadata": {},
   "outputs": [],
   "source": [
    "x=[0,0,6370,0.0001]\n",
    "#x0=[-41.77270940460345, -16.789194039784554, 6370.059559201504, -0.0032015658289978126]\n",
    "x0=[0, 6370, 0, 0]\n",
    "\n",
    "#choose random phi and theta for each sattelite\n",
    "random.seed(5)\n",
    "s1_phi_theta=[random.random()*(math.pi/2),random.random()*(2*math.pi)]\n",
    "s2_phi_theta=[random.random()*(math.pi/2),random.random()*(2*math.pi)]\n",
    "s3_phi_theta=[random.random()*(math.pi/2),random.random()*(2*math.pi)]\n",
    "s4_phi_theta=[random.random()*(math.pi/2),random.random()*(2*math.pi)]"
   ]
  },
  {
   "cell_type": "code",
   "execution_count": null,
   "id": "2f1cf925",
   "metadata": {},
   "outputs": [],
   "source": [
    "# Calculate the A,B,C and t for each sattelite\n",
    "ll, t = calculate_satellites_position([s1_phi_theta,s2_phi_theta,s3_phi_theta,s4_phi_theta],x)"
   ]
  },
  {
   "cell_type": "code",
   "execution_count": null,
   "id": "ecedcaa2",
   "metadata": {},
   "outputs": [],
   "source": [
    "# Save the information into the df\n",
    "df = pd.DataFrame(columns=('x', 'y', 'z', 'hue'))\n",
    "#ll=[s1,s2,s3,s4]\n",
    "for i in range(len(ll)):\n",
    "    # add the satelite position\n",
    "    df.loc[i] = [ll[i][0],ll[i][1],ll[i][2],'satelite']\n",
    "# add the center of the earth\n",
    "df.loc[len(df.index)] = [0, 0, 0,'earth center']\n",
    "# add points of earth location\n",
    "add_earth_points(50,50)"
   ]
  },
  {
   "cell_type": "code",
   "execution_count": null,
   "id": "41456dcf",
   "metadata": {},
   "outputs": [],
   "source": [
    "# calculate the position of the gps\n",
    "position=multivar_newton(x0,ll[0],ll[1],ll[2],ll[3],t,k=10,tol=1e-6,verbose=True)\n",
    "\n",
    "# add the position of the gps to the dataframe\n",
    "df.loc[len(df.index)] = [position[0], position[1],position[2],'gps']\n",
    "# print the results\n",
    "print(\"\")\n",
    "print(\"(x,y,z) = (\"+str(position[0])+\", \"+str(position[1])+\", \"+str(position[2])+\"), and d= \"+str(position[3]))"
   ]
  },
  {
   "cell_type": "markdown",
   "id": "fa6631d8",
   "metadata": {},
   "source": [
    "**you may have to re-execute the following cell for the image to load**"
   ]
  },
  {
   "cell_type": "code",
   "execution_count": null,
   "id": "523716e0",
   "metadata": {},
   "outputs": [],
   "source": [
    "# Plot the position of the satellites, the gps, and the earth\n",
    "plot_3d_Variable(df)"
   ]
  },
  {
   "cell_type": "markdown",
   "id": "c0bc43ad",
   "metadata": {},
   "source": [
    "#### Tring different variations of the \tdif_ti’s"
   ]
  },
  {
   "cell_type": "code",
   "execution_count": null,
   "id": "8a235fe7",
   "metadata": {},
   "outputs": [],
   "source": [
    "dif_t=[0,0,-1e-8,0]\n",
    "change_t(x, x0, ll, t, dif_t, k=10,tol=1e-6)"
   ]
  },
  {
   "cell_type": "code",
   "execution_count": null,
   "id": "f57f9bc3",
   "metadata": {},
   "outputs": [],
   "source": [
    "dif_t=[0,1e-8,0,0]\n",
    "change_t(x, x0, ll, t, dif_t, k=10,tol=1e-6)"
   ]
  },
  {
   "cell_type": "markdown",
   "id": "2509e816",
   "metadata": {},
   "source": [
    "**Iterating the proces**"
   ]
  },
  {
   "cell_type": "code",
   "execution_count": null,
   "id": "48e77464",
   "metadata": {
    "scrolled": false
   },
   "outputs": [],
   "source": [
    "# Evolution for t_2 and t_3\n",
    "df_errors=iterate_errors(x, x0, ll, t,s_i=1, s_j=1, s_n=50, s_m=50)"
   ]
  },
  {
   "cell_type": "code",
   "execution_count": null,
   "id": "9f5b39f6",
   "metadata": {},
   "outputs": [],
   "source": [
    "df_errors"
   ]
  },
  {
   "cell_type": "code",
   "execution_count": null,
   "id": "9f339c0a",
   "metadata": {
    "scrolled": false
   },
   "outputs": [],
   "source": [
    "plot_3d_Errors(df_errors, xx=\"dif_t2\", yy=\"dif_t3\", zz=\"distance (m)\")"
   ]
  },
  {
   "cell_type": "code",
   "execution_count": null,
   "id": "a1f13678",
   "metadata": {},
   "outputs": [],
   "source": [
    "# Evolution for t_0 and t_1\n",
    "df_errors=iterate_errors(x, x0, ll, t,s_i=50, s_j=50, s_n=1, s_m=1)\n",
    "plot_3d_Errors(df_errors, xx=\"dif_t0\", yy=\"dif_t1\", zz=\"distance (m)\")"
   ]
  },
  {
   "cell_type": "code",
   "execution_count": null,
   "id": "f483273d",
   "metadata": {},
   "outputs": [],
   "source": [
    "# Evolution for t_0 and t_3\n",
    "df_errors=iterate_errors(x, x0, ll, t,s_i=50, s_j=1, s_n=1, s_m=50)\n",
    "plot_3d_Errors(df_errors, xx=\"dif_t0\", yy=\"dif_t3\", zz=\"distance (m)\")"
   ]
  },
  {
   "cell_type": "code",
   "execution_count": null,
   "id": "93e8663f",
   "metadata": {
    "scrolled": true
   },
   "outputs": [],
   "source": [
    "# Evolution 10.000 points for all the conbinations\n",
    "df_errors=iterate_errors(x, x0, ll, t,s_i=10, s_j=10, s_n=10, s_m=10)\n",
    "plot_3d_Errors(df_errors, xx=\"dif_t0\", yy=\"dif_t1\", zz=\"distance (m)\")\n",
    "plot_3d_Errors(df_errors, xx=\"dif_t0\", yy=\"dif_t2\", zz=\"distance (m)\")\n",
    "plot_3d_Errors(df_errors, xx=\"dif_t0\", yy=\"dif_t3\", zz=\"distance (m)\")\n",
    "plot_3d_Errors(df_errors, xx=\"dif_t1\", yy=\"dif_t2\", zz=\"distance (m)\")\n",
    "plot_3d_Errors(df_errors, xx=\"dif_t1\", yy=\"dif_t3\", zz=\"distance (m)\")\n",
    "plot_3d_Errors(df_errors, xx=\"dif_t2\", yy=\"dif_t3\", zz=\"distance (m)\")"
   ]
  },
  {
   "cell_type": "code",
   "execution_count": null,
   "id": "61901a47",
   "metadata": {},
   "outputs": [],
   "source": [
    "df_errors=iterate_errors(x, x0, ll, t,s_i=15, s_j=15, s_n=15, s_m=15)"
   ]
  },
  {
   "cell_type": "code",
   "execution_count": null,
   "id": "aa115394",
   "metadata": {},
   "outputs": [],
   "source": [
    "df_errors"
   ]
  },
  {
   "cell_type": "code",
   "execution_count": null,
   "id": "5e730ebf",
   "metadata": {},
   "outputs": [],
   "source": [
    "df_errors[df_errors['distance (m)'] == df_errors['distance (m)'].max()]"
   ]
  },
  {
   "cell_type": "markdown",
   "id": "5b6516f3",
   "metadata": {},
   "source": [
    "We can see that the maximum distance is 53m which causes an EMF of 17.69, this occurs when we modify the times in this way.\n",
    "\n",
    "t0=1e-8\n",
    "\n",
    "t1=1e-8\n",
    "\n",
    "t2=-1e-8\n",
    "\n",
    "t3=-1e-8"
   ]
  },
  {
   "cell_type": "code",
   "execution_count": null,
   "id": "8bb2a462",
   "metadata": {},
   "outputs": [],
   "source": [
    "df_errors['distance (m)'].hist(legend=True,figsize=(10,10))\n",
    "df_errors['error_magnification_factor'].hist(legend=True,figsize=(10,10))"
   ]
  },
  {
   "cell_type": "markdown",
   "id": "105229da",
   "metadata": {
    "scrolled": true
   },
   "source": [
    "## Problem 5"
   ]
  },
  {
   "cell_type": "markdown",
   "id": "4835b9ba",
   "metadata": {},
   "source": [
    "### main execution"
   ]
  },
  {
   "cell_type": "markdown",
   "id": "7aaf3fa1",
   "metadata": {},
   "source": [
    "5º Correspond to less than 5 * (π/2)/90 --> π * (1/36)"
   ]
  },
  {
   "cell_type": "code",
   "execution_count": null,
   "id": "4b60298e",
   "metadata": {},
   "outputs": [],
   "source": [
    "x=[0,0,6370,0.0001]\n",
    "#x0=[-41.77270940460345, -16.789194039784554, 6370.059559201504, -0.0032015658289978126]\n",
    "x0=[0, 6370, 0, 0]\n",
    "\n",
    "#choose random phi and theta for each sattelite\n",
    "random.seed(5)\n",
    "s1_phi_theta=[random.random()*(math.pi/36)+(math.pi/2),random.random()*(math.pi/36)]\n",
    "s2_phi_theta=[random.random()*(math.pi/36)+(math.pi/2),random.random()*(math.pi/36)]\n",
    "s3_phi_theta=[random.random()*(math.pi/36)+(math.pi/2),random.random()*(math.pi/36)]\n",
    "s4_phi_theta=[random.random()*(math.pi/36)+(math.pi/2),random.random()*(math.pi/36)]"
   ]
  },
  {
   "cell_type": "code",
   "execution_count": null,
   "id": "2e149feb",
   "metadata": {},
   "outputs": [],
   "source": [
    "# Calculate the A,B,C and t for each sattelite\n",
    "ll, t = calculate_satellites_position([s1_phi_theta,s2_phi_theta,s3_phi_theta,s4_phi_theta],x)"
   ]
  },
  {
   "cell_type": "code",
   "execution_count": null,
   "id": "bae9ff76",
   "metadata": {},
   "outputs": [],
   "source": [
    "# Save the information into the df\n",
    "df = pd.DataFrame(columns=('x', 'y', 'z', 'hue'))\n",
    "#ll=[s1,s2,s3,s4]\n",
    "for i in range(len(ll)):\n",
    "    # add the satelite position\n",
    "    df.loc[i] = [ll[i][0],ll[i][1],ll[i][2],'satelite']\n",
    "# add the center of the earth\n",
    "df.loc[len(df.index)] = [0, 0, 0,'earth center']\n",
    "# add points of earth location\n",
    "add_earth_points(50,50)"
   ]
  },
  {
   "cell_type": "code",
   "execution_count": null,
   "id": "7f709fc3",
   "metadata": {},
   "outputs": [],
   "source": [
    "# calculate the position of the gps\n",
    "position=multivar_newton(x0,ll[0],ll[1],ll[2],ll[3],t,k=10,tol=1e-6,verbose=True)\n",
    "\n",
    "# add the position of the gps to the dataframe\n",
    "df.loc[len(df.index)] = [position[0], position[1],position[2],'gps']\n",
    "# print the results\n",
    "print(\"\")\n",
    "print(\"(x,y,z) = (\"+str(position[0])+\", \"+str(position[1])+\", \"+str(position[2])+\"), and d= \"+str(position[3]))"
   ]
  },
  {
   "cell_type": "markdown",
   "id": "5eec37ab",
   "metadata": {},
   "source": [
    "**you may have to re-execute the following cell for the image to load**"
   ]
  },
  {
   "cell_type": "code",
   "execution_count": null,
   "id": "2379b36d",
   "metadata": {},
   "outputs": [],
   "source": [
    "# Plot the position of the satellites, the gps, and the earth\n",
    "plot_3d_Variable(df)"
   ]
  },
  {
   "cell_type": "markdown",
   "id": "336f25df",
   "metadata": {},
   "source": [
    "#### Tring different variations of the \tdif_ti’s using the iterative process"
   ]
  },
  {
   "cell_type": "code",
   "execution_count": null,
   "id": "37b25fdc",
   "metadata": {},
   "outputs": [],
   "source": [
    "df_errors=iterate_errors(x, x0, ll, t,s_i=15, s_j=15, s_n=15, s_m=15)"
   ]
  },
  {
   "cell_type": "code",
   "execution_count": null,
   "id": "2a34d13f",
   "metadata": {},
   "outputs": [],
   "source": [
    "df_errors"
   ]
  },
  {
   "cell_type": "code",
   "execution_count": null,
   "id": "bb18c2e6",
   "metadata": {},
   "outputs": [],
   "source": [
    "df_errors[df_errors['distance (m)'] == df_errors['distance (m)'].max()]"
   ]
  },
  {
   "cell_type": "markdown",
   "id": "c0ac3714",
   "metadata": {},
   "source": [
    "We can see that the maximum distance is 32985m which causes an EMF of 11002.78, this occurs when we modify the times in this way.\n",
    "\n",
    "t0=-1e-8\n",
    "\n",
    "t1=-1e-8\n",
    "\n",
    "t2=1e-8\n",
    "\n",
    "t3=-1e-8"
   ]
  },
  {
   "cell_type": "code",
   "execution_count": null,
   "id": "ff0d9fdb",
   "metadata": {},
   "outputs": [],
   "source": [
    "df_errors['distance (m)'].hist(legend=True,figsize=(10,10))\n",
    "df_errors['error_magnification_factor'].hist(legend=True,figsize=(10,10))"
   ]
  },
  {
   "cell_type": "markdown",
   "id": "92e3d858",
   "metadata": {
    "scrolled": true
   },
   "source": [
    "## Problem 6"
   ]
  },
  {
   "cell_type": "markdown",
   "id": "d48203e4",
   "metadata": {},
   "source": [
    "### functions\n"
   ]
  },
  {
   "cell_type": "code",
   "execution_count": null,
   "id": "125aa0ff",
   "metadata": {},
   "outputs": [],
   "source": [
    "# calculate 1 eq for the given values\n",
    "def eq(a,b,c,t,x,y,z,d):\n",
    "    return math.sqrt((x-a)**2+(y-b)**2+(z-c)**2)-c_light*(t-d)\n",
    "    \n",
    "# calculate the system of equations\n",
    "def gps_r_x(x, s_i, t):\n",
    "    sol=[]\n",
    "    for count, value in enumerate(s_i):\n",
    "        sol.append(eq(value[0], value[1], value[2], t[count],x[0],x[1],x[2],x[3]))# first eq for satelate S_i\n",
    "    \n",
    "    return sol"
   ]
  },
  {
   "cell_type": "code",
   "execution_count": null,
   "id": "f8810c57",
   "metadata": {},
   "outputs": [],
   "source": [
    "def dr_x(si,t,x):\n",
    "    return (x[0]-si[0])/(math.sqrt((x[0]-si[0])**2+(x[1]-si[1])**2+(x[2]-si[2])**2))\n",
    "def dr_y(si,t,x):\n",
    "    return (x[1]-si[1])/(math.sqrt((x[0]-si[0])**2+(x[1]-si[1])**2+(x[2]-si[2])**2))\n",
    "def dr_z(si,t,x):\n",
    "    return (x[2]-si[2])/(math.sqrt((x[0]-si[0])**2+(x[1]-si[1])**2+(x[2]-si[2])**2))\n",
    "def dr_d(si,t,x):\n",
    "    return c_light\n",
    "\n",
    "# Calculate the Jacobian Matrix of Partial Derivatives for x\n",
    "def gps_dr_x(x, s_i, t):\n",
    "    A = np.zeros((len(s_i), len(x)))\n",
    "    #A = np.array([[0.0,0.0,0.0,0.0],\n",
    "    #             [0.0,0.0,0.0,0.0],\n",
    "    #             [0.0,0.0,0.0,0.0],\n",
    "    #             [0.0,0.0,0.0,0.0]])\n",
    "    for i in range(len(s_i)):\n",
    "        A[i,0]=df_x(s_i[i], t[i], x)\n",
    "        A[i,1]=df_y(s_i[i], t[i], x)\n",
    "        A[i,2]=df_z(s_i[i], t[i], x)\n",
    "        A[i,3]=df_d(s_i[i], t[i], x)\n",
    "    return A"
   ]
  },
  {
   "cell_type": "code",
   "execution_count": null,
   "id": "1b120439",
   "metadata": {},
   "outputs": [],
   "source": [
    "def gauss_Newton_iteration(x0, satellites_list, t, k=50, tol=1e-5, verbose=False):\n",
    "    x=x0\n",
    "    for i in range(k):\n",
    "        \n",
    "        r=gps_r_x(x, satellites_list, t)\n",
    "        A=gps_dr_x(x, satellites_list, t)\n",
    "        \n",
    "        if(all(abs(j) < tol for j in r)):\n",
    "            # the tol level has been reach\n",
    "            return x\n",
    "        \n",
    "        if(verbose):\n",
    "            print(\"iter: \"+str(i))\n",
    "            \n",
    "        # Solve for s\n",
    "        # A_T * A * s = A_T * r  --> A = Q*R\n",
    "        # (Q*R)_T * Q*R * s=(Q*R)_T * r\n",
    "        # R_T * Q_T * Q * R * s = R_T * Q_T * r  Since Q_T = Q_-1 --> Q_T * Q = Q_-1 * Q = 1\n",
    "        # R_T * R * s = R_T * Q_T * r --> p = Q_T * r \n",
    "        # R * s = p\n",
    "        \n",
    "        Q, R = np.linalg.qr(A)  # A = Q*R\n",
    "        p = np.dot(Q.T, r)      # p = Q_T * r \n",
    "            \n",
    "            \n",
    "        # Solve the linear system instead of doing the inverse of the matrix\n",
    "        s = np.linalg.solve(R, p) # R * s = p\n",
    "        x = x - s\n",
    "        \n",
    "        if(verbose):\n",
    "            print(\"x=\"+str(x[0])+\" y=\"+str(x[1])+\" z=\"+str(x[2])+\", and d=\"+str(x[3]))\n",
    "\n",
    "    return x   \n",
    "    "
   ]
  },
  {
   "cell_type": "code",
   "execution_count": null,
   "id": "aa07acc9",
   "metadata": {},
   "outputs": [],
   "source": [
    "# Calculate the dif in the position base on dif_t and also calculate the error magnification factor\n",
    "def change_t_8S(x, x0, ll, t, dif_t, k=10,tol=1e-6):\n",
    "    \n",
    "    # Aply the change to the times\n",
    "    new_t = [t[i]+dif_t[i]for i in range(len(t))]\n",
    "    \n",
    "    # Aply the method\n",
    "    position = gauss_Newton_iteration(x0, ll, new_t, k=k, tol=tol, verbose=False)\n",
    "    \n",
    "    # calculate the difference in position ||(dif_x, dif_y, dif_z)||∞\n",
    "    max_dif_x = max([abs(x[i]-position[i]) for i in range(len(x))])\n",
    "    \n",
    "    # calculate the difference in time ||(dif_t_1, ..., dif_t_n)||∞\n",
    "    max_dif_t = max([abs(dif_t[i]) for i in range(len(dif_t))])\n",
    "    \n",
    "    # calculate the error magnification factor\n",
    "    error_magnification_factor= max_dif_x / ( c_light*max_dif_t)\n",
    "    \n",
    "    return max_dif_x, error_magnification_factor"
   ]
  },
  {
   "cell_type": "code",
   "execution_count": null,
   "id": "4f0326c5",
   "metadata": {},
   "outputs": [],
   "source": [
    "# Run an iterative proces to check multiple diferent times variables for 8 sattelites\n",
    "def iterate_errors_8S(x, x0, ll, t, s_i=2, s_j=2, s_n=2, s_m=2, s_a=2, s_b=2, s_c=2, s_d=2):\n",
    "    df_errors = pd.DataFrame(columns=('dif_t0','dif_t1','dif_t2','dif_t3','dif_t4','dif_t5','dif_t6','dif_t7', 'distance (m)', 'error_magnification_factor'))\n",
    "    \n",
    "    dif_t=[-1e-8 for i in range(len(ll))] # Create inicial vector of -1e-8 t for each satelite\n",
    "    step_i=0\n",
    "    step_j=0\n",
    "    step_n=0\n",
    "    step_m=0\n",
    "    step_a=0\n",
    "    step_b=0\n",
    "    step_c=0\n",
    "    step_d=0\n",
    "    \n",
    "    if(s_i==1):\n",
    "        dif_t[0]=0\n",
    "    else:\n",
    "        step_i=(1e-8*2)/(s_i-1)\n",
    "    if(s_j==1):\n",
    "        dif_t[1]=0\n",
    "    else:\n",
    "        step_j=(1e-8*2)/(s_j-1)\n",
    "    if(s_n==1):\n",
    "        dif_t[2]=0\n",
    "    else:\n",
    "        step_n=(1e-8*2)/(s_n-1)\n",
    "    if(s_m==1):\n",
    "        dif_t[3]=0\n",
    "    else:\n",
    "        step_m=(1e-8*2)/(s_m-1)\n",
    "    \n",
    "    if(s_a==1):\n",
    "        dif_t[4]=0\n",
    "    else:\n",
    "        step_a=(1e-8*2)/(s_a-1)\n",
    "    if(s_b==1):\n",
    "        dif_t[5]=0\n",
    "    else:\n",
    "        step_b=(1e-8*2)/(s_b-1)\n",
    "    if(s_c==1):\n",
    "        dif_t[6]=0\n",
    "    else:\n",
    "        step_c=(1e-8*2)/(s_c-1)\n",
    "    if(s_d==1):\n",
    "        dif_t[7]=0\n",
    "    else:\n",
    "        step_d=(1e-8*2)/(s_d-1)\n",
    "       \n",
    "    # Iterate all the sattelites  \n",
    "    for i in range(s_i):\n",
    "        v_i=dif_t[0]+step_i*i\n",
    "        for j in range(s_j):\n",
    "            v_j=dif_t[1]+step_j*j\n",
    "            for n in range(s_n):\n",
    "                v_n=dif_t[2]+step_n*n\n",
    "                for m in range(s_m):\n",
    "                    v_m=dif_t[3]+step_m*m\n",
    "\n",
    "                    for a in range(s_a):\n",
    "                        v_a=dif_t[4]+step_a*a\n",
    "                        for b in range(s_b):\n",
    "                            v_b=dif_t[5]+step_b*b\n",
    "                            for c in range(s_c):\n",
    "                                v_c=dif_t[6]+step_c*c\n",
    "                                for d in range(s_d):\n",
    "                                    v_d=dif_t[7]+step_d*d\n",
    "                                    \n",
    "                                    \n",
    "                                    if(v_i==0 and v_j==0 and v_n==0 and v_m==0 and v_a==0 and v_b==0 and v_c==0 and v_d==0):\n",
    "                                        print(\"A difference of [0,0,0,0,0,0,0,0] is skiped\")\n",
    "                                        continue\n",
    "                    \n",
    "                                    # Calculate the distance and Error magnification factor\n",
    "                                    dd, emf = change_t_8S(x, x0, ll, t, [v_i,v_j,v_n,v_m, v_a,v_b,v_c,v_d])\n",
    "                    \n",
    "                    \n",
    "                                    #save the result  the distance in meters\n",
    "                                    df_errors.loc[len(df_errors.index)] = [v_i, v_j, v_n, v_m, v_a, v_b, v_c, v_d, (dd*1000), emf]\n",
    "    return df_errors"
   ]
  },
  {
   "cell_type": "markdown",
   "id": "acab2b57",
   "metadata": {},
   "source": [
    "### main execution"
   ]
  },
  {
   "cell_type": "code",
   "execution_count": null,
   "id": "671d6ac4",
   "metadata": {},
   "outputs": [],
   "source": [
    "x=[0,0,6370,0.0001]\n",
    "\n",
    "x0=[0, 0, 0, 0]\n",
    "\n",
    "#choose random phi and theta for each sattelite\n",
    "random.seed(5)\n",
    "s1_phi_theta=[random.random()*(math.pi/2),random.random()*(2*math.pi)]\n",
    "s2_phi_theta=[random.random()*(math.pi/2),random.random()*(2*math.pi)]\n",
    "s3_phi_theta=[random.random()*(math.pi/2),random.random()*(2*math.pi)]\n",
    "s4_phi_theta=[random.random()*(math.pi/2),random.random()*(2*math.pi)]\n",
    "s5_phi_theta=[random.random()*(math.pi/2),random.random()*(2*math.pi)]\n",
    "s6_phi_theta=[random.random()*(math.pi/2),random.random()*(2*math.pi)]\n",
    "s7_phi_theta=[random.random()*(math.pi/2),random.random()*(2*math.pi)]\n",
    "s8_phi_theta=[random.random()*(math.pi/2),random.random()*(2*math.pi)]"
   ]
  },
  {
   "cell_type": "code",
   "execution_count": null,
   "id": "ba1ea9ee",
   "metadata": {},
   "outputs": [],
   "source": [
    "# Calculate the A,B,C and t for each sattelite\n",
    "ll, t = calculate_satellites_position([s1_phi_theta,s2_phi_theta,s3_phi_theta,s4_phi_theta,s5_phi_theta,s6_phi_theta,s7_phi_theta,s8_phi_theta],x)"
   ]
  },
  {
   "cell_type": "code",
   "execution_count": null,
   "id": "16907939",
   "metadata": {},
   "outputs": [],
   "source": [
    "# Save the information into the df\n",
    "df = pd.DataFrame(columns=('x', 'y', 'z', 'hue'))\n",
    "#ll=[s1,s2,s3,s4]\n",
    "for i in range(len(ll)):\n",
    "    # add the satelite position\n",
    "    df.loc[i] = [ll[i][0],ll[i][1],ll[i][2],'satelite']\n",
    "# add the center of the earth\n",
    "df.loc[len(df.index)] = [0, 0, 0,'earth center']\n",
    "# add points of earth location\n",
    "add_earth_points(50,50)"
   ]
  },
  {
   "cell_type": "code",
   "execution_count": null,
   "id": "6d2d93f7",
   "metadata": {},
   "outputs": [],
   "source": [
    "# calculate the position of the gps\n",
    "position=gauss_Newton_iteration(x0, ll, t, k=10, tol=1e-6, verbose=True)\n",
    "\n",
    "# add the position of the gps to the dataframe\n",
    "df.loc[len(df.index)] = [position[0], position[1],position[2],'gps']\n",
    "# print the results\n",
    "print(\"\")\n",
    "print(\"(x,y,z) = (\"+str(position[0])+\", \"+str(position[1])+\", \"+str(position[2])+\"), and d= \"+str(position[3]))"
   ]
  },
  {
   "cell_type": "markdown",
   "id": "cd3607ac",
   "metadata": {},
   "source": [
    "**you may have to re-execute the following cell for the image to load**"
   ]
  },
  {
   "cell_type": "code",
   "execution_count": null,
   "id": "fed277b4",
   "metadata": {},
   "outputs": [],
   "source": [
    "# Plot the position of the satellites, the gps, and the earth\n",
    "plot_3d_Variable(df)"
   ]
  },
  {
   "cell_type": "markdown",
   "id": "26a37874",
   "metadata": {},
   "source": [
    "#### Tring different variations of the \tdif_ti’s using the iterative process"
   ]
  },
  {
   "cell_type": "code",
   "execution_count": null,
   "id": "f138a626",
   "metadata": {},
   "outputs": [],
   "source": [
    "df_errors=iterate_errors_8S(x, x0, ll, t,s_i=4, s_j=4, s_n=4, s_m=4, s_a=4, s_b=4, s_c=4, s_d=4)"
   ]
  },
  {
   "cell_type": "code",
   "execution_count": null,
   "id": "6c16c8c4",
   "metadata": {},
   "outputs": [],
   "source": [
    "df_errors"
   ]
  },
  {
   "cell_type": "code",
   "execution_count": null,
   "id": "c106f6c4",
   "metadata": {
    "scrolled": true
   },
   "outputs": [],
   "source": [
    "# Plot some of the combinations (In total there are 5,040 combinations of 2 different sattelites, so im not ploting all)\n",
    "\n",
    "plot_3d_Errors(df_errors, xx=\"dif_t0\", yy=\"dif_t1\", zz=\"distance (m)\")\n",
    "plot_3d_Errors(df_errors, xx=\"dif_t0\", yy=\"dif_t2\", zz=\"distance (m)\")\n",
    "plot_3d_Errors(df_errors, xx=\"dif_t0\", yy=\"dif_t3\", zz=\"distance (m)\")\n",
    "plot_3d_Errors(df_errors, xx=\"dif_t1\", yy=\"dif_t2\", zz=\"distance (m)\")\n",
    "plot_3d_Errors(df_errors, xx=\"dif_t1\", yy=\"dif_t3\", zz=\"distance (m)\")\n",
    "plot_3d_Errors(df_errors, xx=\"dif_t2\", yy=\"dif_t3\", zz=\"distance (m)\")"
   ]
  },
  {
   "cell_type": "code",
   "execution_count": null,
   "id": "ffe5db4e",
   "metadata": {},
   "outputs": [],
   "source": [
    "df_errors[df_errors['distance (m)'] == df_errors['distance (m)'].max()]"
   ]
  },
  {
   "cell_type": "markdown",
   "id": "401ae6c3",
   "metadata": {},
   "source": [
    "We can see that the maximum distance is 13.5m which causes an EMF of 4.5, this occurs when we modify the times in this way.\n",
    "\n",
    "t0=-1e-8\n",
    "\n",
    "t1=-1e-8\n",
    "\n",
    "t2=-1e-8\n",
    "\n",
    "t3=-1e-8\n",
    "\n",
    "t4=1e-8\n",
    "\n",
    "t5=1e-8\n",
    "\n",
    "t6=-1e-8\n",
    "\n",
    "t7=1e-8"
   ]
  },
  {
   "cell_type": "code",
   "execution_count": null,
   "id": "85cc65d7",
   "metadata": {},
   "outputs": [],
   "source": [
    "df_errors['distance (m)'].hist(legend=True,figsize=(10,10))\n",
    "df_errors['error_magnification_factor'].hist(legend=True,figsize=(10,10))"
   ]
  },
  {
   "cell_type": "markdown",
   "id": "9663ce8f",
   "metadata": {},
   "source": [
    "## Final thoughts"
   ]
  },
  {
   "cell_type": "markdown",
   "id": "8d62b2c7",
   "metadata": {},
   "source": [
    "A good initial vector could be the center of the earth at 0,0,0 since it is the closer point to all the points in the surface.\n",
    "\n",
    "\n",
    "We can see from the results that the configuration with 8 satellites achieve a higher precision when the t's are modified, since the maximum distance was 13.5m with an EMF of only 4.5. Compared to the used of 4 unbunched satellites where the maximum distance was 53 meters with an EMF of 17.69 in this case the EMG was almost 4 times bigger. But if we go to the last case, where the 4 satellites were bunched together, we can see that the maximum distance grows to 32,985 meters, almost 33 Km and the EMF is 11,002.78 in this case the system is extremely week, as an slight change in the times produces errors of multiple kilometers.\n",
    "\n",
    "\n",
    "Base on this information the best model is the one where the receiver has access to the maximum number of satellites possible, and also it is extremely important that those satellites are not bunched together as this decrease the accuracy by a lot.\n"
   ]
  }
 ],
 "metadata": {
  "kernelspec": {
   "display_name": "Python 3 (ipykernel)",
   "language": "python",
   "name": "python3"
  },
  "language_info": {
   "codemirror_mode": {
    "name": "ipython",
    "version": 3
   },
   "file_extension": ".py",
   "mimetype": "text/x-python",
   "name": "python",
   "nbconvert_exporter": "python",
   "pygments_lexer": "ipython3",
   "version": "3.8.12"
  }
 },
 "nbformat": 4,
 "nbformat_minor": 5
}
